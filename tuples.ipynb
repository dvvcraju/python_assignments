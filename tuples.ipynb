def empty_tuple(tuple) :
 return()
var = (10,11,15,20)
result = empty_tuple(var)
print(result)
